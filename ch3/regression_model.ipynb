{
 "cells": [
  {
   "cell_type": "code",
   "execution_count": null,
   "metadata": {},
   "outputs": [],
   "source": [
    "import numpy as np\n",
    "import matplotlib.pyplot as plt\n",
    "import tensorflow as tf\n",
    "import scipy.stats as ss\n",
    "import sklearn.metrics as sm\n"
   ]
  },
  {
   "cell_type": "code",
   "execution_count": null,
   "metadata": {},
   "outputs": [],
   "source": [
    "N = 100\n",
    "w_true = 5\n",
    "b_true = 2\n",
    "noise_scale = .1\n",
    "x_np = np.random.rand(N, 1)\n",
    "noise = np.random.normal(scale=noise_scale, size=(N, 1))\n",
    "# Convert shape of y_np to (N,)\n",
    "y_np = np.reshape(w_true * x_np  + b_true + noise, (-1))\n",
    "print(y_np.shape) \n",
    "print(x_np.shape) \n"
   ]
  },
  {
   "cell_type": "code",
   "execution_count": null,
   "metadata": {},
   "outputs": [],
   "source": [
    "plt.scatter(x_np, y_np, color='green')\n",
    "#plt.axis([0, 6, 0, 20])\n",
    "plt.show()"
   ]
  },
  {
   "cell_type": "code",
   "execution_count": null,
   "metadata": {},
   "outputs": [],
   "source": [
    "with tf.name_scope(\"placeholders\"):\n",
    "  x = tf.placeholder(tf.float32, (N, 1))\n",
    "  y = tf.placeholder(tf.float32, (N,))\n",
    "with tf.name_scope(\"weights\"):\n",
    "  W = tf.Variable(tf.random_normal((1, 1)))\n",
    "  b = tf.Variable(tf.random_normal((1, 1)))\n",
    "with tf.name_scope(\"prediction\"):\n",
    "  y_pred = tf.matmul(x, W) + b\n",
    "with tf.name_scope(\"loss\"):\n",
    "  l = tf.reduce_sum((y - y_pred)**2)\n",
    "with tf.name_scope(\"optim\"):\n",
    "  train_op = tf.train.AdamOptimizer(.001).minimize(l)\n",
    "\n",
    "with tf.name_scope(\"summaries\"):\n",
    "  loss_scalar=tf.summary.scalar(\"loss\", l)\n",
    "  merged = tf.summary.merge([loss_scalar])\n",
    "  #merged = tf.summary.merge_all()\n",
    "\n",
    "train_writer = tf.summary.FileWriter(\"lr-train\", tf.get_default_graph())"
   ]
  },
  {
   "cell_type": "markdown",
   "metadata": {},
   "source": [
    "The merged is causing one of the biggest blunder in the code while training\n",
    "So try using the merged fuction, it accepts the list as the input and [] is the way to define the list"
   ]
  },
  {
   "cell_type": "code",
   "execution_count": null,
   "metadata": {},
   "outputs": [],
   "source": [
    "n_steps = 8000\n",
    "with tf.Session() as sess:\n",
    "  sess.run(tf.global_variables_initializer())\n",
    "  # Train model\n",
    "  feed_dict = {x: x_np, y: y_np}\n",
    "  y_pred_np = sess.run(y_pred, feed_dict=feed_dict)\n",
    "  print(y_pred_np)\n",
    "  for i in range(n_steps):\n",
    "    feed_dict = {x: x_np, y: y_np}\n",
    "    a3=sess.run(merged, feed_dict=feed_dict)\n",
    "    a2,loss = sess.run([train_op,l], feed_dict=feed_dict)\n",
    "    print(\"step %d, loss: %f\" % (i, loss))\n",
    "    train_writer.add_summary(a3, i)\n",
    "  y_pred_np = sess.run(y_pred, feed_dict=feed_dict)\n",
    "  print(y_pred_np)"
   ]
  },
  {
   "cell_type": "code",
   "execution_count": null,
   "metadata": {},
   "outputs": [],
   "source": [
    "def pearson_r2_score(y, y_pred):\n",
    "  \"\"\"Computes Pearson R^2 (square of Pearson correlation).\"\"\"\n",
    "  return ss.pearsonr(y, y_pred)[0]**2\n",
    "\n",
    "def rms_score(y_true, y_pred):\n",
    "  \"\"\"Computes RMS error.\"\"\"\n",
    "  return np.sqrt(sm.mean_squared_error(y_true, y_pred))"
   ]
  },
  {
   "cell_type": "code",
   "execution_count": null,
   "metadata": {},
   "outputs": [],
   "source": [
    "y_pred_np = np.reshape(y_pred_np, -1)\n",
    "r2 = pearson_r2_score(y_np, y_pred_np)\n",
    "print(\"Pearson R^2: %f\" % r2)"
   ]
  },
  {
   "cell_type": "code",
   "execution_count": null,
   "metadata": {},
   "outputs": [],
   "source": [
    "rms = rms_score(y_np, y_pred_np)\n",
    "print(\"RMS: %f\" % rms)"
   ]
  },
  {
   "cell_type": "code",
   "execution_count": 160,
   "metadata": {},
   "outputs": [
    {
     "data": {
      "image/png": "[encoded data removed]",
      "text/plain": [
       "<Figure size 432x288 with 1 Axes>"
      ]
     },
     "metadata": {},
     "output_type": "display_data"
    }
   ],
   "source": [
    "plt.xlabel(\"$Y-true$\")\n",
    "plt.ylabel(\"Y-pred\")\n",
    "plt.title(\"Predicted versus True values \"\n",
    "          r\"(Pearson $R^2$: $0.994$)\")\n",
    "plt.scatter(y_np, y_pred_np)\n",
    "plt.savefig(\"lr_pred.png\")"
   ]
  },
  {
   "cell_type": "code",
   "execution_count": 157,
   "metadata": {},
   "outputs": [
    {
     "data": {
      "text/plain": [
       "<matplotlib.collections.PathCollection at 0x4a06ec2b0>"
      ]
     },
     "execution_count": 157,
     "metadata": {},
     "output_type": "execute_result"
    },
    {
     "data": {
      "image/png": "[encoded data removed]",
      "text/plain": [
       "<Figure size 432x288 with 1 Axes>"
      ]
     },
     "metadata": {},
     "output_type": "display_data"
    }
   ],
   "source": [
    "plt.xlabel(\"x\")\n",
    "plt.ylabel(\"y\")\n",
    "plt.title(\"True Model versus Learned Model \"\n",
    "          r\"(RMS: $1.027620$)\")\n",
    "plt.xlim(0, 1)\n",
    "plt.scatter(x_np, y_np)\n",
    "plt.scatter(x_np,y_pred_np,color=\"red\")"
   ]
  },
  {
   "cell_type": "code",
   "execution_count": null,
   "metadata": {},
   "outputs": [],
   "source": []
  },
  {
   "cell_type": "code",
   "execution_count": null,
   "metadata": {},
   "outputs": [],
   "source": []
  }
 ],
 "metadata": {
  "kernelspec": {
   "display_name": "Python 3",
   "language": "python",
   "name": "python3"
  },
  "language_info": {
   "codemirror_mode": {
    "name": "ipython",
    "version": 3
   },
   "file_extension": ".py",
   "mimetype": "text/x-python",
   "name": "python",
   "nbconvert_exporter": "python",
   "pygments_lexer": "ipython3",
   "version": "3.5.5"
  }
 },
 "nbformat": 4,
 "nbformat_minor": 2
}
